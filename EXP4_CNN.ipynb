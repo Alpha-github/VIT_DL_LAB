{
 "cells": [
  {
   "cell_type": "markdown",
   "metadata": {},
   "source": [
    "## Convolution Neural Network\n",
    "1) Sample code\n",
    "2) Five different cnn configs - create comparison table\n",
    "3) Visualize filters and features\n",
    "4) Alexnet (Optional)\n",
    "5) Build own cnn model and use on custom dataset\n",
    "6) Compare fully connected and CNN\n"
   ]
  },
  {
   "cell_type": "markdown",
   "metadata": {},
   "source": [
    "# Deep Learning Lab 4 - Convolution Neural Network\n",
    ">Ankith Motha\n",
    ">21BAI1284"
   ]
  },
  {
   "cell_type": "markdown",
   "metadata": {},
   "source": [
    "### 1) Execute Sample Convolution Neural Network Code"
   ]
  },
  {
   "cell_type": "code",
   "execution_count": 1,
   "metadata": {},
   "outputs": [
    {
     "name": "stdout",
     "output_type": "stream",
     "text": [
      "WARNING:tensorflow:From d:\\Software\\Python\\Python311\\Lib\\site-packages\\keras\\src\\losses.py:2976: The name tf.losses.sparse_softmax_cross_entropy is deprecated. Please use tf.compat.v1.losses.sparse_softmax_cross_entropy instead.\n",
      "\n"
     ]
    }
   ],
   "source": [
    "import numpy \n",
    "import tensorflow as tf\n",
    "from tensorflow.keras.datasets import mnist \n",
    "from tensorflow.keras.models import Sequential \n",
    "from tensorflow.keras.layers import Dense \n",
    "from tensorflow.keras.layers import Dropout \n",
    "from tensorflow.keras.layers import Flatten \n",
    "from tensorflow.keras.layers import Conv2D\n",
    "from tensorflow.keras.layers import MaxPool2D\n",
    "from tensorflow.keras.utils import to_categorical\n",
    "import numpy as np \n",
    "import matplotlib.pyplot as plt"
   ]
  },
  {
   "cell_type": "code",
   "execution_count": 2,
   "metadata": {},
   "outputs": [],
   "source": [
    "seed = 7 \n",
    "numpy.random.seed(seed) \n",
    "# load data \n",
    "(X_train, y_train), (X_test, y_test) = mnist.load_data() \n",
    "# reshape to be [samples][channels][width][height] \n",
    "X_train = X_train.reshape(X_train.shape[0], 28, 28,1).astype( 'float32' ) \n",
    "X_test = X_test.reshape(X_test.shape[0], 28, 28,1).astype( 'float32' ) \n",
    "# normalize inputs from 0-255 to 0-1 \n",
    "X_train = X_train / 255 \n",
    "X_test = X_test / 255 \n"
   ]
  },
  {
   "cell_type": "code",
   "execution_count": 3,
   "metadata": {},
   "outputs": [
    {
     "data": {
      "image/png": "[encoded data removed]",
      "text/plain": [
       "<Figure size 1000x1000 with 10 Axes>"
      ]
     },
     "metadata": {},
     "output_type": "display_data"
    }
   ],
   "source": [
    "import numpy \n",
    "# one hot encode outputs \n",
    "y_train = to_categorical(y_train) \n",
    "y_test = to_categorical(y_test) \n",
    "num_classes = y_test.shape[1] \n",
    "(x_train, y_train1), (x_test, y_test1) = mnist.load_data() \n",
    "fig, ax = plt.subplots(1, 10, figsize=(10,10)) \n",
    "for i in range(0, 10): \n",
    "\tax[i].xaxis.set_visible(False) \n",
    "\tax[i].yaxis.set_visible(False) \n",
    "\tax[i].set_title(y_train1[i]) \n",
    "\tax[i].imshow(x_train[i], cmap=plt.cm.binary) \n"
   ]
  },
  {
   "cell_type": "code",
   "execution_count": 4,
   "metadata": {},
   "outputs": [
    {
     "name": "stdout",
     "output_type": "stream",
     "text": [
      "WARNING:tensorflow:From d:\\Software\\Python\\Python311\\Lib\\site-packages\\keras\\src\\backend.py:873: The name tf.get_default_graph is deprecated. Please use tf.compat.v1.get_default_graph instead.\n",
      "\n",
      "WARNING:tensorflow:From d:\\Software\\Python\\Python311\\Lib\\site-packages\\keras\\src\\layers\\pooling\\max_pooling2d.py:161: The name tf.nn.max_pool is deprecated. Please use tf.nn.max_pool2d instead.\n",
      "\n",
      "WARNING:tensorflow:From d:\\Software\\Python\\Python311\\Lib\\site-packages\\keras\\src\\optimizers\\__init__.py:309: The name tf.train.Optimizer is deprecated. Please use tf.compat.v1.train.Optimizer instead.\n",
      "\n",
      "Epoch 1/10\n",
      "WARNING:tensorflow:From d:\\Software\\Python\\Python311\\Lib\\site-packages\\keras\\src\\utils\\tf_utils.py:492: The name tf.ragged.RaggedTensorValue is deprecated. Please use tf.compat.v1.ragged.RaggedTensorValue instead.\n",
      "\n",
      "WARNING:tensorflow:From d:\\Software\\Python\\Python311\\Lib\\site-packages\\keras\\src\\engine\\base_layer_utils.py:384: The name tf.executing_eagerly_outside_functions is deprecated. Please use tf.compat.v1.executing_eagerly_outside_functions instead.\n",
      "\n",
      "300/300 [==============================] - 28s 90ms/step - loss: 0.1775 - accuracy: 0.9457 - val_loss: 0.0613 - val_accuracy: 0.9809\n",
      "Epoch 2/10\n",
      "300/300 [==============================] - 25s 85ms/step - loss: 0.0523 - accuracy: 0.9839 - val_loss: 0.0358 - val_accuracy: 0.9886\n",
      "Epoch 3/10\n",
      "300/300 [==============================] - 24s 81ms/step - loss: 0.0332 - accuracy: 0.9893 - val_loss: 0.0336 - val_accuracy: 0.9881\n",
      "Epoch 4/10\n",
      "300/300 [==============================] - 24s 81ms/step - loss: 0.0220 - accuracy: 0.9925 - val_loss: 0.0287 - val_accuracy: 0.9916\n",
      "Epoch 5/10\n",
      "300/300 [==============================] - 21s 71ms/step - loss: 0.0182 - accuracy: 0.9940 - val_loss: 0.0344 - val_accuracy: 0.9883\n",
      "Epoch 6/10\n",
      "300/300 [==============================] - 20s 65ms/step - loss: 0.0132 - accuracy: 0.9956 - val_loss: 0.0419 - val_accuracy: 0.9873\n",
      "Epoch 7/10\n",
      "300/300 [==============================] - 20s 66ms/step - loss: 0.0111 - accuracy: 0.9964 - val_loss: 0.0396 - val_accuracy: 0.9897\n",
      "Epoch 8/10\n",
      "300/300 [==============================] - 20s 66ms/step - loss: 0.0109 - accuracy: 0.9961 - val_loss: 0.0437 - val_accuracy: 0.9877\n",
      "Epoch 9/10\n",
      "300/300 [==============================] - 18s 61ms/step - loss: 0.0075 - accuracy: 0.9975 - val_loss: 0.0384 - val_accuracy: 0.9906\n",
      "Epoch 10/10\n",
      "300/300 [==============================] - 19s 62ms/step - loss: 0.0065 - accuracy: 0.9977 - val_loss: 0.0351 - val_accuracy: 0.9907\n",
      "313/313 [==============================] - 1s 3ms/step - loss: 0.0351 - accuracy: 0.9907\n",
      "CNN Error: 0.93%\n"
     ]
    }
   ],
   "source": [
    "def baseline_model(): \n",
    "    # create model \n",
    "    model = Sequential() \n",
    "    model.add(Conv2D(32, (5, 5), padding= 'valid' ,strides=(1,1), input_shape=( 28, 28,1), \n",
    "    activation= 'relu' )) \n",
    "    model.add(MaxPool2D(pool_size=(2, 2))) \n",
    "    model.add(Dropout(0.2)) \n",
    "    model.add(Flatten()) \n",
    "    model.add(Dense(1152, activation= 'relu' )) \n",
    "    model.add(Dense(128, activation= 'relu' )) \n",
    "    model.add(Dense(10, activation= 'softmax' ))\n",
    "    # Compile model \n",
    "    model.compile(loss= 'categorical_crossentropy' , optimizer= 'adam' , metrics=[ 'accuracy' ]) \n",
    "    return model \n",
    "\n",
    "\n",
    "model = baseline_model() \n",
    "model.fit(X_train, y_train, validation_data=(X_test, y_test), epochs=10, batch_size=200) \n",
    "scores = model.evaluate(X_test, y_test) \n",
    "print(\"CNN Error: %.2f%%\" % (100-scores[1]*100)) \n",
    "\n"
   ]
  },
  {
   "cell_type": "markdown",
   "metadata": {},
   "source": [
    "### 2) Convolution Neural Network Configurations and Comparison"
   ]
  },
  {
   "cell_type": "code",
   "execution_count": 39,
   "metadata": {},
   "outputs": [
    {
     "data": {
      "text/plain": [
       "'2.2.0+cpu'"
      ]
     },
     "execution_count": 39,
     "metadata": {},
     "output_type": "execute_result"
    }
   ],
   "source": [
    "import torch\n",
    "from torch.nn import Module\n",
    "from torch.utils.data import DataLoader\n",
    "from torchvision import datasets, transforms\n",
    "import torch.nn.functional as F\n",
    "from tqdm import tqdm\n",
    "import torchsummary\n",
    "\n",
    "torch.__version__"
   ]
  },
  {
   "cell_type": "code",
   "execution_count": 28,
   "metadata": {},
   "outputs": [],
   "source": [
    "# HYPERPARAMETERS\n",
    "BATCH_SIZE = 16\n",
    "EPOCHS = 10\n",
    "LEARNING_RATE = 0.001\n",
    "NCLASSES = 10\n",
    "\n",
    "train_data = datasets.MNIST(root=\"data\",train=True,download=True,transform=transforms.ToTensor())\n",
    "train_dataloader = DataLoader(dataset=train_data,batch_size=BATCH_SIZE,shuffle=True)\n",
    "test_data = datasets.MNIST(root=\"data\",train=False,download=True,transform=transforms.ToTensor())\n",
    "test_dataloader = DataLoader(dataset=test_data,batch_size=BATCH_SIZE,shuffle=False)"
   ]
  },
  {
   "cell_type": "code",
   "execution_count": 35,
   "metadata": {},
   "outputs": [],
   "source": [
    "class CNN(Module):\n",
    "    def __init__(self, num_classes=NCLASSES,CNNkernel=(3,3),CNNstride=(1,1),Maxkernel=(2,2),Maxstride=(2,2)):\n",
    "        super().__init__()\n",
    "        self.conv1 = torch.nn.Conv2d(in_channels=1, out_channels=32, kernel_size=CNNkernel, padding=(1,1), stride=CNNstride)\n",
    "        self.pool = torch.nn.MaxPool2d(kernel_size=(2,2), stride=(2,2))\n",
    "        self.conv2 = torch.nn.Conv2d(in_channels=32, out_channels=64, kernel_size=CNNkernel,padding=(1,1), stride=CNNstride)\n",
    "        self.fc1 = torch.nn.LazyLinear(num_classes)\n",
    "\n",
    "    def forward(self,x):\n",
    "        x = F.relu(self.conv1(x))\n",
    "        x = self.pool(x)\n",
    "        x = F.relu(self.conv2(x))\n",
    "        x = self.pool(x)\n",
    "        x = x.reshape(x.shape[0], -1)\n",
    "        x = self.fc1(x) \n",
    "        return x"
   ]
  },
  {
   "cell_type": "code",
   "execution_count": 36,
   "metadata": {},
   "outputs": [
    {
     "data": {
      "text/plain": [
       "[{'CNNkernel': (3, 3), 'CNNstride': (1, 1)},\n",
       " {'CNNkernel': (5, 5), 'CNNstride': (1, 1)},\n",
       " {'CNNkernel': (3, 3), 'CNNstride': (3, 3)}]"
      ]
     },
     "execution_count": 36,
     "metadata": {},
     "output_type": "execute_result"
    }
   ],
   "source": [
    "#CNN Variations\n",
    "configs = [dict(CNNkernel=(3,3),CNNstride=(1,1)),\n",
    "           dict(CNNkernel=(5,5),CNNstride=(1,1)),\n",
    "           dict(CNNkernel=(3,3),CNNstride=(3,3))]\n",
    "\n",
    "def check_accuracy(loader, model):\n",
    "    num_correct = 0\n",
    "    num_samples = 0\n",
    "    model.eval()\n",
    "\n",
    "    with torch.no_grad():\n",
    "        for x, y in loader:\n",
    "            scores = model(x)\n",
    "            _, predictions = scores.max(1)\n",
    "            num_correct += (predictions == y).sum()\n",
    "            num_samples += predictions.size(0)\n",
    "\n",
    "    model.train()\n",
    "    return num_correct / num_samples\n",
    "\n",
    "configs"
   ]
  },
  {
   "cell_type": "code",
   "execution_count": 38,
   "metadata": {},
   "outputs": [
    {
     "name": "stderr",
     "output_type": "stream",
     "text": [
      "d:\\Software\\Python\\Python311\\Lib\\site-packages\\torch\\nn\\modules\\lazy.py:181: UserWarning: Lazy modules are a new feature under heavy development so changes to the API or functionality can happen at any moment.\n",
      "  warnings.warn('Lazy modules are a new feature under heavy development '\n"
     ]
    },
    {
     "name": "stdout",
     "output_type": "stream",
     "text": [
      "Accuracy on training set: 99.84\n",
      "Accuracy on test set: 99.13\n",
      "Accuracy on training set: 99.88\n",
      "Accuracy on test set: 99.19\n",
      "Accuracy on training set: 98.36\n",
      "Accuracy on test set: 97.18\n"
     ]
    }
   ],
   "source": [
    "outputs = []\n",
    "\n",
    "for num,d in enumerate(configs):\n",
    "    model = CNN(CNNkernel=d['CNNkernel'],CNNstride=d['CNNstride'])\n",
    "    # Loss and optimizer\n",
    "    criterion = torch.nn.CrossEntropyLoss()\n",
    "    optimizer = torch.optim.Adam(model.parameters(), lr=0.001)\n",
    "\n",
    "    # Train Network\n",
    "    for epoch in range(EPOCHS):\n",
    "        for batch_idx, (data, targets) in enumerate(train_dataloader):\n",
    "            # forward\n",
    "            scores = model(data)\n",
    "            loss = criterion(scores, targets)\n",
    "\n",
    "            # backward\n",
    "            optimizer.zero_grad()\n",
    "            loss.backward()\n",
    "\n",
    "            # gradient descent or adam step\n",
    "            optimizer.step()\n",
    "    \n",
    "    train_acc = check_accuracy(train_dataloader, model)*100\n",
    "    test_acc = check_accuracy(test_dataloader, model)*100\n",
    "    print(f\"Accuracy on training set: {train_acc:.2f}\")\n",
    "    print(f\"Accuracy on test set: {test_acc:.2f}\")\n",
    "    res = {f\"model{num+1}\":model,f\"config{num+1}\":d,\"train_acc\":train_acc,\"test_acc\":test_acc}\n",
    "    outputs.append(res)\n"
   ]
  },
  {
   "cell_type": "code",
   "execution_count": null,
   "metadata": {},
   "outputs": [],
   "source": [
    "outputs"
   ]
  },
  {
   "cell_type": "markdown",
   "metadata": {},
   "source": [
    "### 3) Visualize Kernels and Feature maps of a CNN"
   ]
  },
  {
   "cell_type": "code",
   "execution_count": 40,
   "metadata": {},
   "outputs": [
    {
     "name": "stderr",
     "output_type": "stream",
     "text": [
      "d:\\Software\\Python\\Python311\\Lib\\site-packages\\torch\\nn\\modules\\lazy.py:181: UserWarning: Lazy modules are a new feature under heavy development so changes to the API or functionality can happen at any moment.\n",
      "  warnings.warn('Lazy modules are a new feature under heavy development '\n",
      "100%|██████████| 3750/3750 [00:25<00:00, 146.85it/s]\n",
      "100%|██████████| 3750/3750 [00:27<00:00, 137.01it/s]\n",
      "100%|██████████| 3750/3750 [00:26<00:00, 139.14it/s]\n",
      "100%|██████████| 3750/3750 [00:27<00:00, 135.00it/s]\n",
      "100%|██████████| 3750/3750 [00:28<00:00, 132.46it/s]\n",
      "100%|██████████| 3750/3750 [00:45<00:00, 82.63it/s] \n",
      "100%|██████████| 3750/3750 [00:43<00:00, 86.90it/s] \n",
      "100%|██████████| 3750/3750 [00:36<00:00, 102.57it/s]\n",
      "100%|██████████| 3750/3750 [00:34<00:00, 109.63it/s]\n",
      "100%|██████████| 3750/3750 [00:34<00:00, 109.88it/s]\n"
     ]
    },
    {
     "name": "stdout",
     "output_type": "stream",
     "text": [
      "Accuracy on training set: 99.81\n",
      "Accuracy on test set: 99.07\n"
     ]
    }
   ],
   "source": [
    "model_viz = CNN()\n",
    "# Loss and optimizer\n",
    "criterion = torch.nn.CrossEntropyLoss()\n",
    "optimizer = torch.optim.Adam(model_viz.parameters(), lr=0.001)\n",
    "\n",
    "# Train Network\n",
    "for epoch in range(EPOCHS):\n",
    "    for batch_idx, (data, targets) in enumerate(tqdm(train_dataloader)):\n",
    "        # forward\n",
    "        scores = model_viz(data)\n",
    "        loss = criterion(scores, targets)\n",
    "\n",
    "        # backward\n",
    "        optimizer.zero_grad()\n",
    "        loss.backward()\n",
    "\n",
    "        # gradient descent or adam step\n",
    "        optimizer.step()\n",
    "\n",
    "train_acc = check_accuracy(train_dataloader, model_viz)*100\n",
    "test_acc = check_accuracy(test_dataloader, model_viz)*100\n",
    "print(f\"Accuracy on training set: {train_acc:.2f}\")\n",
    "print(f\"Accuracy on test set: {test_acc:.2f}\")"
   ]
  },
  {
   "cell_type": "code",
   "execution_count": 45,
   "metadata": {},
   "outputs": [
    {
     "name": "stdout",
     "output_type": "stream",
     "text": [
      "Total convolution layers: 2\n",
      "conv_layers\n"
     ]
    }
   ],
   "source": [
    "# we will save the conv layer weights in this list\n",
    "model_weights =[]\n",
    "#we will save the 49 conv layers in this list\n",
    "conv_layers = []\n",
    "# get all the model children as list\n",
    "model_children = list(model_viz.children())\n",
    "#counter to keep count of the conv layers\n",
    "counter = 0\n",
    "#append all the conv layers and their respective wights to the list\n",
    "for i in range(len(model_children)):\n",
    "    if type(model_children[i]) == torch.nn.Conv2d:\n",
    "        counter+=1\n",
    "        model_weights.append(model_children[i].weight)\n",
    "        conv_layers.append(model_children[i])\n",
    "    elif type(model_children[i]) == torch.nn.Sequential:\n",
    "        for j in range(len(model_children[i])):\n",
    "            for child in model_children[i][j].children():\n",
    "                if type(child) == torch.nn.Conv2d:\n",
    "                    counter+=1\n",
    "                    model_weights.append(child.weight)\n",
    "                    conv_layers.append(child)\n",
    "print(f\"Total convolution layers: {counter}\")\n",
    "print(\"conv_layers\")"
   ]
  },
  {
   "cell_type": "code",
   "execution_count": 54,
   "metadata": {},
   "outputs": [
    {
     "name": "stdout",
     "output_type": "stream",
     "text": [
      "Conv2d(1, 32, kernel_size=(3, 3), stride=(1, 1), padding=(1, 1))\n",
      "Conv2d(32, 64, kernel_size=(3, 3), stride=(1, 1), padding=(1, 1))\n",
      "2\n",
      "torch.Size([1, 32, 28, 28])\n",
      "torch.Size([1, 64, 28, 28])\n"
     ]
    }
   ],
   "source": [
    "image = train_data[0][0]\n",
    "image = image.unsqueeze(0)\n",
    "outputs = []\n",
    "names = []\n",
    "for layer in conv_layers[0:]:\n",
    "    print(layer)\n",
    "    image = layer(image)\n",
    "    outputs.append(image)\n",
    "    names.append(str(layer))\n",
    "print(len(outputs))\n",
    "#print feature_maps\n",
    "for feature_map in outputs:\n",
    "    print(feature_map.shape)"
   ]
  },
  {
   "cell_type": "code",
   "execution_count": 55,
   "metadata": {},
   "outputs": [
    {
     "name": "stdout",
     "output_type": "stream",
     "text": [
      "(28, 28)\n",
      "(28, 28)\n"
     ]
    }
   ],
   "source": [
    "processed = []\n",
    "for feature_map in outputs:\n",
    "    feature_map = feature_map.squeeze(0)\n",
    "    gray_scale = torch.sum(feature_map,0)\n",
    "    gray_scale = gray_scale / feature_map.shape[0]\n",
    "    processed.append(gray_scale.data.cpu().numpy())\n",
    "for fm in processed:\n",
    "    print(fm.shape)"
   ]
  },
  {
   "cell_type": "code",
   "execution_count": 56,
   "metadata": {},
   "outputs": [
    {
     "data": {
      "image/png": "[encoded data removed]",
      "text/plain": [
       "<Figure size 3000x5000 with 2 Axes>"
      ]
     },
     "metadata": {},
     "output_type": "display_data"
    }
   ],
   "source": [
    "fig = plt.figure(figsize=(30, 50))\n",
    "for i in range(len(processed)):\n",
    "    a = fig.add_subplot(5, 4, i+1)\n",
    "    imgplot = plt.imshow(processed[i])\n",
    "    a.axis(\"off\")\n",
    "    a.set_title(names[i].split('(')[0], fontsize=30)\n",
    "plt.savefig(str('feature_maps.jpg'), bbox_inches='tight')"
   ]
  },
  {
   "cell_type": "markdown",
   "metadata": {},
   "source": [
    "### 3b) Visualize Kernels"
   ]
  },
  {
   "cell_type": "code",
   "execution_count": 60,
   "metadata": {},
   "outputs": [
    {
     "data": {
      "image/png": "[encoded data removed]",
      "text/plain": [
       "<Figure size 800x500 with 1 Axes>"
      ]
     },
     "metadata": {},
     "output_type": "display_data"
    },
    {
     "data": {
      "image/png": "[encoded data removed]",
      "text/plain": [
       "<Figure size 800x900 with 1 Axes>"
      ]
     },
     "metadata": {},
     "output_type": "display_data"
    }
   ],
   "source": [
    "import numpy as np\n",
    "import matplotlib.pyplot as plt\n",
    "from torchvision import utils\n",
    "\n",
    "def visTensor(tensor, ch=0, allkernels=False, nrow=8, padding=1): \n",
    "    n,c,w,h = tensor.shape\n",
    "\n",
    "    if allkernels: tensor = tensor.view(n*c, -1, w, h)\n",
    "    elif c != 3: tensor = tensor[:,ch,:,:].unsqueeze(dim=1)\n",
    "\n",
    "    rows = np.min((tensor.shape[0] // nrow + 1, 64))    \n",
    "    grid = utils.make_grid(tensor, nrow=nrow, normalize=True, padding=padding)\n",
    "    plt.figure( figsize=(nrow,rows) )\n",
    "    plt.imshow(grid.numpy().transpose((1, 2, 0)))\n",
    "\n",
    "\n",
    "if __name__ == \"__main__\":\n",
    "    filter1 = model_viz.conv1.weight.data.clone()\n",
    "    visTensor(filter1, ch=0, allkernels=False)\n",
    "    \n",
    "    filter2 = model_viz.conv2.weight.data.clone()\n",
    "    visTensor(filter2, ch=0, allkernels=False)\n",
    "\n",
    "    plt.axis('off')\n",
    "    plt.ioff()\n",
    "    plt.show()"
   ]
  },
  {
   "cell_type": "markdown",
   "metadata": {},
   "source": [
    "### 4) Create a CNN Model on Custom Dataset\n",
    ">Dataset: Cats and Dogs"
   ]
  },
  {
   "cell_type": "code",
   "execution_count": 61,
   "metadata": {},
   "outputs": [],
   "source": [
    "# Load Data\n",
    "\n",
    "TRAIN_PATH = \"./Datasets/Cats_Dogs_Kaggle/training_set\"\n",
    "TEST_PATH = \"./Datasets/Cats_Dogs_Kaggle/test_set\"\n",
    "\n",
    "train_data = datasets.ImageFolder(root=TRAIN_PATH, transform=transforms.ToTensor())\n",
    "train_data_loader = DataLoader(train_data, batch_size=BATCH_SIZE, shuffle=True)\n",
    "test_data = datasets.ImageFolder(root=TEST_PATH, transform=transforms.ToTensor())\n",
    "test_data_loader  = DataLoader(test_data, batch_size=BATCH_SIZE, shuffle=True)\n"
   ]
  },
  {
   "cell_type": "code",
   "execution_count": 66,
   "metadata": {},
   "outputs": [],
   "source": [
    "class CustomCNN(Module):\n",
    "    def __init__(self, num_classes=NCLASSES,CNNkernel=(3,3),CNNstride=(1,1)):\n",
    "        super().__init__()\n",
    "        self.conv1 = torch.nn.Conv2d(in_channels=1, out_channels=32, kernel_size=CNNkernel, padding=(1,1), stride=CNNstride)\n",
    "        self.pool = torch.nn.MaxPool2d(kernel_size=(2,2), stride=(2,2))\n",
    "        self.conv2 = torch.nn.Conv2d(in_channels=32, out_channels=64, kernel_size=CNNkernel,padding=(1,1), stride=CNNstride)\n",
    "        self.conv3 = torch.nn.Conv2d(in_channels=64, out_channels=128, kernel_size=CNNkernel,padding=(1,1), stride=CNNstride)\n",
    "        self.fc1 = torch.nn.LazyLinear(512)\n",
    "        self.fc2 = torch.nn.Linear(512,num_classes)\n",
    "\n",
    "    def forward(self,x):\n",
    "        x = F.relu(self.conv1(x))\n",
    "        x = self.pool(x)\n",
    "        x = F.relu(self.conv2(x))\n",
    "        x = self.pool(x)\n",
    "        x = F.relu(self.conv3(x))\n",
    "        x = self.pool(x)\n",
    "        x = x.reshape(x.shape[0], -1)\n",
    "        x = F.dropout(x,0.3)\n",
    "        x = self.fc1(x)\n",
    "        x = self.fc2(x)\n",
    "        return x"
   ]
  },
  {
   "cell_type": "code",
   "execution_count": 67,
   "metadata": {},
   "outputs": [
    {
     "name": "stderr",
     "output_type": "stream",
     "text": [
      "d:\\Software\\Python\\Python311\\Lib\\site-packages\\torch\\nn\\modules\\lazy.py:181: UserWarning: Lazy modules are a new feature under heavy development so changes to the API or functionality can happen at any moment.\n",
      "  warnings.warn('Lazy modules are a new feature under heavy development '\n",
      "100%|██████████| 3750/3750 [01:01<00:00, 61.40it/s]\n",
      "100%|██████████| 3750/3750 [00:46<00:00, 79.95it/s]\n",
      "100%|██████████| 3750/3750 [00:46<00:00, 81.36it/s]\n",
      "100%|██████████| 3750/3750 [00:54<00:00, 68.96it/s]\n",
      "100%|██████████| 3750/3750 [01:02<00:00, 60.18it/s]\n"
     ]
    },
    {
     "name": "stdout",
     "output_type": "stream",
     "text": [
      "Accuracy on training set: 99.03\n",
      "Accuracy on test set: 98.37\n"
     ]
    }
   ],
   "source": [
    "model = CustomCNN()\n",
    "# Loss and optimizer\n",
    "criterion = torch.nn.CrossEntropyLoss()\n",
    "optimizer = torch.optim.Adam(model.parameters(), lr=0.001)\n",
    "\n",
    "# Train Network\n",
    "for epoch in range(5):\n",
    "    for batch_idx, (data, targets) in enumerate(tqdm(train_dataloader)):\n",
    "        # forward\n",
    "        scores = model(data)\n",
    "        loss = criterion(scores, targets)\n",
    "\n",
    "        # backward\n",
    "        optimizer.zero_grad()\n",
    "        loss.backward()\n",
    "\n",
    "        # gradient descent or adam step\n",
    "        optimizer.step()\n",
    "\n",
    "train_acc = check_accuracy(train_dataloader, model)*100\n",
    "test_acc = check_accuracy(test_dataloader, model)*100\n",
    "print(f\"Accuracy on training set: {train_acc:.2f}\")\n",
    "print(f\"Accuracy on test set: {test_acc:.2f}\")"
   ]
  },
  {
   "cell_type": "markdown",
   "metadata": {},
   "source": [
    "### 5) Compare Fully Connected NN and CNN"
   ]
  },
  {
   "cell_type": "code",
   "execution_count": 68,
   "metadata": {},
   "outputs": [],
   "source": [
    "class FCNN(Module):\n",
    "    def __init__(self, num_classes=NCLASSES,CNNkernel=(3,3),CNNstride=(1,1)):\n",
    "        super().__init__()\n",
    "        self.fc1 = torch.nn.Linear(784,512)\n",
    "        self.fc2 = torch.nn.Linear(512,512)\n",
    "        self.fc3 = torch.nn.Linear(512,256)\n",
    "        self.fc4 = torch.nn.Linear(256,128)\n",
    "        self.fc5 = torch.nn.Linear(128,num_classes)\n",
    "    \n",
    "    def forward(self,x):\n",
    "        x = x.reshape(x.shape[0], -1)\n",
    "        x = F.relu(self.fc1(x))\n",
    "        x = F.relu(self.fc2(x))\n",
    "        x = F.relu(self.fc3(x))\n",
    "        x = F.relu(self.fc4(x))\n",
    "        x = F.softmax(self.fc5(x))\n",
    "        return x"
   ]
  },
  {
   "cell_type": "code",
   "execution_count": null,
   "metadata": {},
   "outputs": [],
   "source": [
    "model_fcnn = FCNN()\n",
    "# Loss and optimizer\n",
    "criterion = torch.nn.CrossEntropyLoss()\n",
    "optimizer = torch.optim.Adam(model_fcnn.parameters(), lr=0.001)\n",
    "\n",
    "train_losses = []\n",
    "val_losses = []\n",
    "\n",
    "# Train Network\n",
    "for epoch in range(5):\n",
    "    for batch_idx, (data, targets) in enumerate(tqdm(train_dataloader)):\n",
    "        # forward\n",
    "        scores = model_fcnn(data)\n",
    "        loss = criterion(scores, targets)\n",
    "        train_losses.append(loss)\n",
    "\n",
    "        # backward\n",
    "        optimizer.zero_grad()\n",
    "        loss.backward()\n",
    "\n",
    "        # gradient descent or adam step\n",
    "        optimizer.step()\n",
    "\n",
    "train_acc = check_accuracy(train_dataloader, model_fcnn)*100\n",
    "test_acc = check_accuracy(test_dataloader, model_fcnn)*100\n",
    "print(f\"Accuracy on training set: {train_acc:.2f}\")\n",
    "print(f\"Accuracy on test set: {test_acc:.2f}\")"
   ]
  },
  {
   "cell_type": "code",
   "execution_count": 77,
   "metadata": {},
   "outputs": [
    {
     "data": {
      "text/plain": [
       "array(2.3018582, dtype=float32)"
      ]
     },
     "execution_count": 77,
     "metadata": {},
     "output_type": "execute_result"
    }
   ],
   "source": [
    "ls = []\n",
    "for i in train_losses:\n",
    "    ls.append(i.detach().numpy())\n",
    "ls[0]"
   ]
  },
  {
   "cell_type": "code",
   "execution_count": 79,
   "metadata": {},
   "outputs": [
    {
     "data": {
      "image/png": "[encoded data removed]",
      "text/plain": [
       "<Figure size 640x480 with 1 Axes>"
      ]
     },
     "metadata": {},
     "output_type": "display_data"
    }
   ],
   "source": [
    "plt.title(\"Training and Validation Loss\")\n",
    "plt.plot(ls,label=\"train\")\n",
    "plt.xlabel(\"iterations\")\n",
    "plt.ylabel(\"Loss\")\n",
    "plt.legend()\n",
    "plt.show()"
   ]
  },
  {
   "cell_type": "code",
   "execution_count": 80,
   "metadata": {},
   "outputs": [
    {
     "name": "stderr",
     "output_type": "stream",
     "text": [
      "d:\\Software\\Python\\Python311\\Lib\\site-packages\\torch\\nn\\modules\\lazy.py:181: UserWarning: Lazy modules are a new feature under heavy development so changes to the API or functionality can happen at any moment.\n",
      "  warnings.warn('Lazy modules are a new feature under heavy development '\n",
      "100%|██████████| 3750/3750 [01:27<00:00, 43.04it/s]\n",
      "100%|██████████| 3750/3750 [01:31<00:00, 40.94it/s]\n",
      "100%|██████████| 3750/3750 [01:30<00:00, 41.60it/s]\n",
      "100%|██████████| 3750/3750 [00:50<00:00, 74.26it/s]\n",
      "100%|██████████| 3750/3750 [00:52<00:00, 71.59it/s]\n"
     ]
    },
    {
     "name": "stdout",
     "output_type": "stream",
     "text": [
      "Accuracy on training set: 99.07\n",
      "Accuracy on test set: 98.60\n"
     ]
    }
   ],
   "source": [
    "model = CustomCNN()\n",
    "# Loss and optimizer\n",
    "criterion = torch.nn.CrossEntropyLoss()\n",
    "optimizer = torch.optim.Adam(model.parameters(), lr=0.001)\n",
    "\n",
    "train_losses = []\n",
    "\n",
    "# Train Network\n",
    "for epoch in range(5):\n",
    "    for batch_idx, (data, targets) in enumerate(tqdm(train_dataloader)):\n",
    "        # forward\n",
    "        scores = model(data)\n",
    "        loss = criterion(scores, targets)\n",
    "        train_losses.append(loss)\n",
    "\n",
    "        # backward\n",
    "        optimizer.zero_grad()\n",
    "        loss.backward()\n",
    "\n",
    "        # gradient descent or adam step\n",
    "        optimizer.step()\n",
    "\n",
    "train_acc = check_accuracy(train_dataloader, model)*100\n",
    "test_acc = check_accuracy(test_dataloader, model)*100\n",
    "print(f\"Accuracy on training set: {train_acc:.2f}\")\n",
    "print(f\"Accuracy on test set: {test_acc:.2f}\")\n",
    "\n",
    "\n"
   ]
  },
  {
   "cell_type": "code",
   "execution_count": 81,
   "metadata": {},
   "outputs": [
    {
     "data": {
      "image/png": "[encoded data removed]",
      "text/plain": [
       "<Figure size 1000x500 with 1 Axes>"
      ]
     },
     "metadata": {},
     "output_type": "display_data"
    }
   ],
   "source": [
    "ls = []\n",
    "for i in train_losses:\n",
    "    ls.append(i.detach().numpy())\n",
    "plt.figure(figsize=(10,5))\n",
    "plt.title(\"Training and Validation Loss\")\n",
    "plt.plot(ls,label=\"train\")\n",
    "plt.xlabel(\"iterations\")\n",
    "plt.ylabel(\"Loss\")\n",
    "plt.legend()\n",
    "plt.show()"
   ]
  },
  {
   "cell_type": "code",
   "execution_count": null,
   "metadata": {},
   "outputs": [],
   "source": []
  }
 ],
 "metadata": {
  "kernelspec": {
   "display_name": "Python 3",
   "language": "python",
   "name": "python3"
  },
  "language_info": {
   "codemirror_mode": {
    "name": "ipython",
    "version": 3
   },
   "file_extension": ".py",
   "mimetype": "text/x-python",
   "name": "python",
   "nbconvert_exporter": "python",
   "pygments_lexer": "ipython3",
   "version": "3.11.7"
  }
 },
 "nbformat": 4,
 "nbformat_minor": 2
}
